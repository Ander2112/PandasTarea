{
  "nbformat": 4,
  "nbformat_minor": 0,
  "metadata": {
    "colab": {
      "provenance": []
    },
    "kernelspec": {
      "name": "python3",
      "display_name": "Python 3"
    },
    "language_info": {
      "name": "python"
    }
  },
  "cells": [
    {
      "cell_type": "code",
      "execution_count": 1,
      "metadata": {
        "id": "rlo-ZjufgN33"
      },
      "outputs": [],
      "source": [
        "import numpy as np"
      ]
    },
    {
      "cell_type": "markdown",
      "source": [
        "Ejericio NumPy"
      ],
      "metadata": {
        "id": "mXbHxW9DgtN-"
      }
    },
    {
      "cell_type": "code",
      "source": [
        "edades = np.random.uniform(\n",
        "    size=(3,3),\n",
        "    low=22,\n",
        "    high=60\n",
        "    ).round()\n",
        "edades"
      ],
      "metadata": {
        "colab": {
          "base_uri": "https://localhost:8080/"
        },
        "id": "VJmg78l6gQi7",
        "outputId": "46afeffd-3ae2-4f47-fb56-931d30a7e421"
      },
      "execution_count": 2,
      "outputs": [
        {
          "output_type": "execute_result",
          "data": {
            "text/plain": [
              "array([[42., 36., 25.],\n",
              "       [57., 38., 48.],\n",
              "       [37., 56., 58.]])"
            ]
          },
          "metadata": {},
          "execution_count": 2
        }
      ]
    },
    {
      "cell_type": "code",
      "source": [
        "ingresos = np.random.uniform(\n",
        "    size=(3,3),\n",
        "    low=2,\n",
        "    high=5\n",
        "    ).round(decimals=3)*1e3\n",
        "ingresos"
      ],
      "metadata": {
        "colab": {
          "base_uri": "https://localhost:8080/"
        },
        "id": "gVoRTvQCgpYD",
        "outputId": "2b21c955-1b4d-41e5-edba-83514590622a"
      },
      "execution_count": 3,
      "outputs": [
        {
          "output_type": "execute_result",
          "data": {
            "text/plain": [
              "array([[4622., 3873., 2905.],\n",
              "       [4951., 2593., 3176.],\n",
              "       [4704., 3623., 3471.]])"
            ]
          },
          "metadata": {},
          "execution_count": 3
        }
      ]
    },
    {
      "cell_type": "code",
      "source": [
        "union = np.stack([edades,ingresos], axis=2).reshape(9,2)\n",
        "union"
      ],
      "metadata": {
        "colab": {
          "base_uri": "https://localhost:8080/"
        },
        "id": "6bAaaTtqg1fy",
        "outputId": "4b237de2-03d3-4497-f4cd-1f2df75009d0"
      },
      "execution_count": 4,
      "outputs": [
        {
          "output_type": "execute_result",
          "data": {
            "text/plain": [
              "array([[  42., 4622.],\n",
              "       [  36., 3873.],\n",
              "       [  25., 2905.],\n",
              "       [  57., 4951.],\n",
              "       [  38., 2593.],\n",
              "       [  48., 3176.],\n",
              "       [  37., 4704.],\n",
              "       [  56., 3623.],\n",
              "       [  58., 3471.]])"
            ]
          },
          "metadata": {},
          "execution_count": 4
        }
      ]
    },
    {
      "cell_type": "code",
      "source": [
        "mayor_que = union >= [20,2e3]\n",
        "menor_que = union <= [30,5e3]\n",
        "filtro = np.logical_and(mayor_que,menor_que)\n",
        "filtro"
      ],
      "metadata": {
        "colab": {
          "base_uri": "https://localhost:8080/"
        },
        "id": "tEb9n7c1g8q1",
        "outputId": "005e16c4-813c-4d21-feaf-9f04c769a7c0"
      },
      "execution_count": 5,
      "outputs": [
        {
          "output_type": "execute_result",
          "data": {
            "text/plain": [
              "array([[False,  True],\n",
              "       [False,  True],\n",
              "       [ True,  True],\n",
              "       [False,  True],\n",
              "       [False,  True],\n",
              "       [False,  True],\n",
              "       [False,  True],\n",
              "       [False,  True],\n",
              "       [False,  True]])"
            ]
          },
          "metadata": {},
          "execution_count": 5
        }
      ]
    },
    {
      "cell_type": "code",
      "source": [
        "filtro_def = np.logical_and.reduce(filtro,1)\n",
        "filtro_def"
      ],
      "metadata": {
        "colab": {
          "base_uri": "https://localhost:8080/"
        },
        "id": "LIY-NFm2hAj8",
        "outputId": "d136dc00-5ed0-4f93-b1fb-f2f4670b1afd"
      },
      "execution_count": 6,
      "outputs": [
        {
          "output_type": "execute_result",
          "data": {
            "text/plain": [
              "array([False, False,  True, False, False, False, False, False, False])"
            ]
          },
          "metadata": {},
          "execution_count": 6
        }
      ]
    },
    {
      "cell_type": "code",
      "source": [
        "res = union[filtro_def]\n",
        "res "
      ],
      "metadata": {
        "colab": {
          "base_uri": "https://localhost:8080/"
        },
        "id": "toRjm8qThE4d",
        "outputId": "33de9c70-d17f-469e-fe6f-c1318ccde51a"
      },
      "execution_count": 7,
      "outputs": [
        {
          "output_type": "execute_result",
          "data": {
            "text/plain": [
              "array([[  25., 2905.]])"
            ]
          },
          "metadata": {},
          "execution_count": 7
        }
      ]
    },
    {
      "cell_type": "code",
      "source": [],
      "metadata": {
        "id": "FsCKB6owhHej"
      },
      "execution_count": null,
      "outputs": []
    },
    {
      "cell_type": "code",
      "source": [],
      "metadata": {
        "id": "T_2_9w6Vgvcb"
      },
      "execution_count": null,
      "outputs": []
    }
  ]
}